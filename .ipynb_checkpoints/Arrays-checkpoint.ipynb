{
 "cells": [
  {
   "cell_type": "code",
   "execution_count": 1,
   "id": "21aed806-439e-4401-81af-e669a2ec2e6b",
   "metadata": {},
   "outputs": [],
   "source": [
    "import numpy as np"
   ]
  },
  {
   "cell_type": "markdown",
   "id": "d1e5e251-8454-4412-bad4-25570f2344ee",
   "metadata": {
    "jp-MarkdownHeadingCollapsed": true
   },
   "source": [
    "## 1D Arrays"
   ]
  },
  {
   "cell_type": "markdown",
   "id": "6c2b4bd5-3be1-4038-8555-7aa4c2946693",
   "metadata": {
    "jp-MarkdownHeadingCollapsed": true
   },
   "source": [
    "### Create a new array / sequences"
   ]
  },
  {
   "cell_type": "code",
   "execution_count": 13,
   "id": "9f9c4871-5392-45e5-8eb5-8d1e53a30ab6",
   "metadata": {},
   "outputs": [],
   "source": [
    "my_array = np.arange(8) # (until exclusive)\n",
    "my_array = np.arange(1,8) # (from,until exclusive)\n",
    "my_array = np.arange(1,8,2) # (from,until exclusive,step by)\n",
    "my_array = np.arange(1,8,0.5) # (from,until exclusive,step by(float))\n",
    "my_array = np.arange(-1,9.25,0.5) # (from,until exclusive,step by)"
   ]
  },
  {
   "cell_type": "code",
   "execution_count": 3,
   "id": "2e74d996-16d3-4266-ad2a-0b1e9b799846",
   "metadata": {},
   "outputs": [
    {
     "name": "stdout",
     "output_type": "stream",
     "text": [
      "[-1.  -0.5  0.   0.5  1.   1.5  2.   2.5  3.   3.5  4.   4.5  5.   5.5\n",
      "  6.   6.5  7.   7.5  8.   8.5  9. ]\n",
      "<class 'numpy.ndarray'>\n"
     ]
    }
   ],
   "source": [
    "print(my_array)\n",
    "print(type(my_array))"
   ]
  },
  {
   "cell_type": "markdown",
   "id": "cf20718b-2c39-4504-83f3-5279fc9f272a",
   "metadata": {
    "jp-MarkdownHeadingCollapsed": true
   },
   "source": [
    "### Create array from lists (Requires lot of resource)"
   ]
  },
  {
   "cell_type": "code",
   "execution_count": 4,
   "id": "fd46700b-2b49-4595-94c5-1665639909dd",
   "metadata": {},
   "outputs": [],
   "source": [
    "from_list = np.array([1,2,3])"
   ]
  },
  {
   "cell_type": "code",
   "execution_count": 5,
   "id": "851a6fa0-3d98-4bc4-85f9-084e550da949",
   "metadata": {},
   "outputs": [
    {
     "name": "stdout",
     "output_type": "stream",
     "text": [
      "[1 2 3]\n"
     ]
    }
   ],
   "source": [
    "print(from_list)"
   ]
  },
  {
   "cell_type": "markdown",
   "id": "437b2b0d-5e3b-4183-a9ef-45de60c1cd25",
   "metadata": {
    "jp-MarkdownHeadingCollapsed": true
   },
   "source": [
    "## 2D Arrays"
   ]
  },
  {
   "cell_type": "code",
   "execution_count": 6,
   "id": "21d321e5-db06-4b45-aad5-48b84ce9197b",
   "metadata": {},
   "outputs": [],
   "source": [
    "from_list = np.array([[1,2,3],[4,5,6]], dtype=np.int8)"
   ]
  },
  {
   "cell_type": "code",
   "execution_count": 7,
   "id": "689a8bd4-0eb4-445d-b710-7acb3fda14da",
   "metadata": {},
   "outputs": [
    {
     "name": "stdout",
     "output_type": "stream",
     "text": [
      "[[1 2 3]\n",
      " [4 5 6]]\n"
     ]
    }
   ],
   "source": [
    "print(from_list)"
   ]
  },
  {
   "cell_type": "code",
   "execution_count": 11,
   "id": "0dd69b9e-22e1-4b92-afdc-8193d326ae63",
   "metadata": {
    "editable": true,
    "slideshow": {
     "slide_type": ""
    },
    "tags": []
   },
   "outputs": [],
   "source": [
    "array_2d = np.array((np.arange(0, 8, 2), np.arange(1, 8, 2)))"
   ]
  },
  {
   "cell_type": "code",
   "execution_count": 14,
   "id": "c1c59907-aa1c-4605-b6c0-3c89930e641c",
   "metadata": {},
   "outputs": [
    {
     "name": "stdout",
     "output_type": "stream",
     "text": [
      "1D shape: (21,)\n",
      "2D shape: (2, 4)\n"
     ]
    }
   ],
   "source": [
    "print(\"1D shape:\", my_array.shape)\n",
    "print(\"2D shape:\", array_2d.shape)"
   ]
  },
  {
   "cell_type": "markdown",
   "id": "afbc4e10-d075-4460-8e8a-e5dfab7649be",
   "metadata": {
    "jp-MarkdownHeadingCollapsed": true
   },
   "source": [
    "### Reshape method"
   ]
  },
  {
   "cell_type": "code",
   "execution_count": 24,
   "id": "829cab22-07d5-4473-86ec-1b3e9426dcb2",
   "metadata": {},
   "outputs": [
    {
     "name": "stdout",
     "output_type": "stream",
     "text": [
      "[[0 2]\n",
      " [4 6]\n",
      " [1 3]\n",
      " [5 7]]\n",
      "\n",
      "2D shape: (4, 2)\n"
     ]
    }
   ],
   "source": [
    "array_2d = array_2d.reshape((4, 2))\n",
    "print(array_2d)\n",
    "print(\"\")\n",
    "print(\"2D shape:\", array_2d.shape)"
   ]
  },
  {
   "cell_type": "code",
   "execution_count": 26,
   "id": "3431196a-5259-4613-b5d7-f552ed0fb59e",
   "metadata": {},
   "outputs": [
    {
     "name": "stdout",
     "output_type": "stream",
     "text": [
      "[0 2 4 6 1 3 5 7]\n",
      "\n",
      "2D shape: (8,)\n"
     ]
    }
   ],
   "source": [
    "array_2d = array_2d.reshape(8)\n",
    "print(array_2d)\n",
    "print(\"\")\n",
    "print(\"2D shape:\", array_2d.shape)"
   ]
  },
  {
   "cell_type": "code",
   "execution_count": 28,
   "id": "e74b7333-cc5f-4604-8cdd-beacc253d9b7",
   "metadata": {},
   "outputs": [
    {
     "name": "stdout",
     "output_type": "stream",
     "text": [
      "[[[0 2 4 6]]\n",
      "\n",
      " [[1 3 5 7]]]\n",
      "\n",
      "2D shape: (2, 1, 4)\n"
     ]
    }
   ],
   "source": [
    "# ((layer,row/layer,column))\n",
    "array_2d = array_2d.reshape((2, 1, 4))\n",
    "print(array_2d)\n",
    "print(\"\")\n",
    "print(\"2D shape:\", array_2d.shape)"
   ]
  },
  {
   "cell_type": "markdown",
   "id": "6c7a44e3-02ea-4bca-9a46-1844747fbc3d",
   "metadata": {
    "jp-MarkdownHeadingCollapsed": true
   },
   "source": [
    "#### bugfix (can hide it)"
   ]
  },
  {
   "cell_type": "code",
   "execution_count": 6,
   "id": "3c6095bd-4116-45ad-8c10-fff6cee2e481",
   "metadata": {},
   "outputs": [],
   "source": [
    "array_2d = np.array((np.arange(0, 8, 2), np.arange(1, 8, 2)))"
   ]
  },
  {
   "cell_type": "code",
   "execution_count": 7,
   "id": "ce92b862-a1c4-463b-9bc7-f696971694cb",
   "metadata": {},
   "outputs": [
    {
     "name": "stdout",
     "output_type": "stream",
     "text": [
      "2D shape before reshape: (2, 4)\n"
     ]
    }
   ],
   "source": [
    "print(\"2D shape before reshape:\", array_2d.shape)"
   ]
  },
  {
   "cell_type": "code",
   "execution_count": 8,
   "id": "0e3b1660-7dfd-4ed0-bce5-a645b390930a",
   "metadata": {},
   "outputs": [],
   "source": [
    "array_2d_reshaped = array_2d.reshape((4, 2))"
   ]
  },
  {
   "cell_type": "code",
   "execution_count": 9,
   "id": "6cd012ca-e387-492b-a720-5dad4d1cb074",
   "metadata": {},
   "outputs": [
    {
     "name": "stdout",
     "output_type": "stream",
     "text": [
      "[[0 2]\n",
      " [4 6]\n",
      " [1 3]\n",
      " [5 7]]\n"
     ]
    }
   ],
   "source": [
    "print(array_2d_reshaped)"
   ]
  },
  {
   "cell_type": "code",
   "execution_count": 10,
   "id": "28d6d53a-57ea-4859-9959-9a4deee6b136",
   "metadata": {},
   "outputs": [
    {
     "name": "stdout",
     "output_type": "stream",
     "text": [
      "2D shape after reshape: (4, 2)\n"
     ]
    }
   ],
   "source": [
    "print(\"2D shape after reshape:\", array_2d_reshaped.shape)"
   ]
  },
  {
   "cell_type": "markdown",
   "id": "0062a9f3-c6c3-4dd6-a120-69c368da53e0",
   "metadata": {},
   "source": [
    "## Empty Arrays"
   ]
  },
  {
   "cell_type": "code",
   "execution_count": 30,
   "id": "1427ca88-7d02-4685-a5e5-5f73e725f125",
   "metadata": {},
   "outputs": [
    {
     "name": "stdout",
     "output_type": "stream",
     "text": [
      "[[0. 0.]\n",
      " [0. 0.]]\n"
     ]
    }
   ],
   "source": [
    "empty_array = np.zeros((2,2))\n",
    "print(empty_array)"
   ]
  },
  {
   "cell_type": "code",
   "execution_count": 31,
   "id": "45b08230-0ed7-4cd2-940a-ba1cbbed1e98",
   "metadata": {},
   "outputs": [
    {
     "name": "stdout",
     "output_type": "stream",
     "text": [
      "[[1. 1.]\n",
      " [1. 1.]]\n"
     ]
    }
   ],
   "source": [
    "empty_array = np.ones((2,2))\n",
    "print(empty_array)"
   ]
  },
  {
   "cell_type": "code",
   "execution_count": 34,
   "id": "252b3e19-d3cf-466b-9e96-5a5a65ac601d",
   "metadata": {},
   "outputs": [
    {
     "name": "stdout",
     "output_type": "stream",
     "text": [
      "[[[0.00000000e+000 0.00000000e+000]\n",
      "  [0.00000000e+000 0.00000000e+000]]\n",
      "\n",
      " [[0.00000000e+000 6.93668167e-321]\n",
      "  [1.78019082e-306 1.37959740e-306]]]\n"
     ]
    }
   ],
   "source": [
    "empty_array = np.empty((2,2,2))\n",
    "print(empty_array)"
   ]
  },
  {
   "cell_type": "markdown",
   "id": "6441e3e1-518e-4e43-95b6-92b27a8806ac",
   "metadata": {},
   "source": [
    "## Eye Arrays"
   ]
  },
  {
   "cell_type": "code",
   "execution_count": 35,
   "id": "20794af3-a1a8-4949-8fb5-4abde762572f",
   "metadata": {},
   "outputs": [
    {
     "name": "stdout",
     "output_type": "stream",
     "text": [
      "[[1. 0. 0.]\n",
      " [0. 1. 0.]\n",
      " [0. 0. 1.]]\n"
     ]
    }
   ],
   "source": [
    "eye_array = np.eye(3)\n",
    "print(eye_array)"
   ]
  },
  {
   "cell_type": "code",
   "execution_count": 37,
   "id": "54836721-025a-435a-b2be-12415caed32c",
   "metadata": {},
   "outputs": [
    {
     "name": "stdout",
     "output_type": "stream",
     "text": [
      "[[0. 1. 0.]\n",
      " [0. 0. 1.]\n",
      " [0. 0. 0.]]\n"
     ]
    }
   ],
   "source": [
    "eye_array = np.eye(3, k=1)\n",
    "print(eye_array)"
   ]
  },
  {
   "cell_type": "code",
   "execution_count": 38,
   "id": "9207de74-aa13-4073-9d08-38b5cea00776",
   "metadata": {},
   "outputs": [
    {
     "name": "stdout",
     "output_type": "stream",
     "text": [
      "[[2. 1. 2.]\n",
      " [2. 2. 1.]\n",
      " [2. 2. 2.]]\n"
     ]
    }
   ],
   "source": [
    "eye_array[eye_array == 0] = 2\n",
    "print(eye_array)"
   ]
  },
  {
   "cell_type": "code",
   "execution_count": 39,
   "id": "598a1df9-7879-4e05-8b15-e9f44f20e638",
   "metadata": {},
   "outputs": [
    {
     "name": "stdout",
     "output_type": "stream",
     "text": [
      "[[2. 9. 2.]\n",
      " [2. 2. 9.]\n",
      " [2. 2. 2.]]\n"
     ]
    }
   ],
   "source": [
    "eye_array[eye_array < 2] = 9\n",
    "print(eye_array)"
   ]
  },
  {
   "cell_type": "code",
   "execution_count": 42,
   "id": "2dd9004d-9e1e-44a3-90c6-ac06784db6cb",
   "metadata": {},
   "outputs": [
    {
     "name": "stdout",
     "output_type": "stream",
     "text": [
      "[[3. 3. 3.]\n",
      " [3. 3. 3.]\n",
      " [2. 2. 2.]]\n"
     ]
    }
   ],
   "source": [
    "# first row will be 3\n",
    "eye_array[0] = 3\n",
    "print(eye_array)"
   ]
  },
  {
   "cell_type": "code",
   "execution_count": 48,
   "id": "4beeec11-2d34-41ef-95bc-33d908fa7b6f",
   "metadata": {},
   "outputs": [
    {
     "name": "stdout",
     "output_type": "stream",
     "text": [
      "[[3. 3. 3.]\n",
      " [3. 3. 3.]\n",
      " [4. 3. 3.]]\n"
     ]
    }
   ],
   "source": [
    "# first 2 row will be 3\n",
    "eye_array[:2] = 3\n",
    "print(eye_array)"
   ]
  },
  {
   "cell_type": "code",
   "execution_count": 57,
   "id": "e5585c16-e661-4240-b81e-3773a898d279",
   "metadata": {},
   "outputs": [
    {
     "name": "stdout",
     "output_type": "stream",
     "text": [
      "[[4. 3. 5.]\n",
      " [7. 7. 7.]\n",
      " [7. 7. 7.]]\n"
     ]
    }
   ],
   "source": [
    "# from second row, all\n",
    "eye_array[1:] = 7\n",
    "print(eye_array)"
   ]
  },
  {
   "cell_type": "code",
   "execution_count": 55,
   "id": "8c17a0d2-9165-48fd-b4de-701ea29679a8",
   "metadata": {},
   "outputs": [
    {
     "name": "stdout",
     "output_type": "stream",
     "text": [
      "[[4. 3. 5.]\n",
      " [4. 7. 7.]\n",
      " [4. 7. 7.]]\n"
     ]
    }
   ],
   "source": [
    "# first rows\n",
    "eye_array[:, 0] = 4\n",
    "print(eye_array)"
   ]
  },
  {
   "cell_type": "code",
   "execution_count": 56,
   "id": "7cfcc862-62b8-4db4-aa0d-a7d4f24e609a",
   "metadata": {},
   "outputs": [
    {
     "name": "stdout",
     "output_type": "stream",
     "text": [
      "[[4. 3. 5.]\n",
      " [4. 7. 5.]\n",
      " [4. 7. 5.]]\n"
     ]
    }
   ],
   "source": [
    "# last column\n",
    "eye_array[:, -1] = 5\n",
    "print(eye_array)"
   ]
  },
  {
   "cell_type": "code",
   "execution_count": 59,
   "id": "3c696d70-ded4-4111-93e1-9f212dbb76da",
   "metadata": {},
   "outputs": [
    {
     "name": "stdout",
     "output_type": "stream",
     "text": [
      "[[4. 3. 5.]\n",
      " [2. 2. 7.]\n",
      " [2. 2. 7.]]\n"
     ]
    }
   ],
   "source": [
    "# from second row, until col2\n",
    "eye_array[1:, :2] = 2\n",
    "print(eye_array)"
   ]
  },
  {
   "cell_type": "markdown",
   "id": "2d4a6fa7-b49d-464a-af46-269caafadb28",
   "metadata": {},
   "source": [
    "## Sort Arrays"
   ]
  },
  {
   "cell_type": "code",
   "execution_count": 62,
   "id": "e8148ed0-1531-43c3-8bb1-879e95cefcaf",
   "metadata": {},
   "outputs": [
    {
     "name": "stdout",
     "output_type": "stream",
     "text": [
      "[[3. 4. 5.]\n",
      " [2. 2. 7.]\n",
      " [2. 2. 7.]]\n"
     ]
    }
   ],
   "source": [
    "# sorting, first is the lowest number\n",
    "sorted_array = np.sort(eye_array)\n",
    "print(sorted_array)"
   ]
  },
  {
   "cell_type": "code",
   "execution_count": 65,
   "id": "66bbacff-1cd1-4b03-b8af-804b59e47297",
   "metadata": {},
   "outputs": [
    {
     "name": "stdout",
     "output_type": "stream",
     "text": [
      "[[2. 2. 5.]\n",
      " [2. 2. 7.]\n",
      " [4. 3. 7.]]\n"
     ]
    }
   ],
   "source": [
    "# sorting, by the column\n",
    "sorted_array = np.sort(eye_array, axis=0)\n",
    "print(sorted_array)"
   ]
  },
  {
   "cell_type": "code",
   "execution_count": 69,
   "id": "75f86b12-9cbe-4066-a65a-eb811959a5ed",
   "metadata": {},
   "outputs": [
    {
     "name": "stdout",
     "output_type": "stream",
     "text": [
      "[[2. 2. 5.]\n",
      " [2. 2. 7.]\n",
      " [4. 3. 7.]]\n"
     ]
    }
   ],
   "source": [
    "#\n",
    "sorted_array = np.sort(eye_array, axis=0, kind=\"mergesort\")\n",
    "print(sorted_array)"
   ]
  },
  {
   "cell_type": "code",
   "execution_count": 68,
   "id": "c35e0155-0568-4d7a-8d50-000f6268ab7a",
   "metadata": {},
   "outputs": [
    {
     "name": "stdout",
     "output_type": "stream",
     "text": [
      "[[2. 2. 5.]\n",
      " [2. 2. 7.]\n",
      " [4. 3. 7.]]\n"
     ]
    }
   ],
   "source": [
    "#\n",
    "sorted_array = np.sort(eye_array, axis=0, kind=\"heapsort\")\n",
    "print(sorted_array)"
   ]
  },
  {
   "cell_type": "markdown",
   "id": "09c26482-9c20-4c88-b59e-7f6ce3acbc7b",
   "metadata": {},
   "source": [
    "## Copy Arrays"
   ]
  },
  {
   "cell_type": "code",
   "execution_count": 71,
   "id": "9a61b8e8-6ef5-422d-9524-cd2c4baf3cb2",
   "metadata": {},
   "outputs": [],
   "source": [
    "my_view = sorted_array.view()"
   ]
  },
  {
   "cell_type": "code",
   "execution_count": 72,
   "id": "53830002-baaf-461b-944b-4fdb1cefd97b",
   "metadata": {},
   "outputs": [],
   "source": [
    "my_copy = sorted_array.copy()"
   ]
  },
  {
   "cell_type": "code",
   "execution_count": 76,
   "id": "1cd53a98-d10d-4653-87f6-cf546db8659d",
   "metadata": {},
   "outputs": [
    {
     "name": "stdout",
     "output_type": "stream",
     "text": [
      "[[4. 4. 4.]\n",
      " [4. 4. 4.]\n",
      " [4. 4. 4.]] \n",
      "\n",
      "[[4. 4. 4.]\n",
      " [4. 4. 4.]\n",
      " [4. 4. 4.]]\n"
     ]
    }
   ],
   "source": [
    "my_view[:] = 4\n",
    "print(my_view, \"\\n\")\n",
    "print(sorted_array)"
   ]
  },
  {
   "cell_type": "code",
   "execution_count": 78,
   "id": "c70fd62b-f84e-469e-858a-2fc0764fd6cc",
   "metadata": {},
   "outputs": [
    {
     "name": "stdout",
     "output_type": "stream",
     "text": [
      "[[2. 2. 2.]\n",
      " [2. 2. 2.]\n",
      " [2. 2. 2.]] \n",
      "\n",
      "[[4. 4. 4.]\n",
      " [4. 4. 4.]\n",
      " [4. 4. 4.]]\n"
     ]
    }
   ],
   "source": [
    "my_copy[:] = 2\n",
    "print(my_copy, \"\\n\")\n",
    "print(sorted_array)"
   ]
  }
 ],
 "metadata": {
  "kernelspec": {
   "display_name": "Python 3 (ipykernel)",
   "language": "python",
   "name": "python3"
  },
  "language_info": {
   "codemirror_mode": {
    "name": "ipython",
    "version": 3
   },
   "file_extension": ".py",
   "mimetype": "text/x-python",
   "name": "python",
   "nbconvert_exporter": "python",
   "pygments_lexer": "ipython3",
   "version": "3.10.6"
  }
 },
 "nbformat": 4,
 "nbformat_minor": 5
}
