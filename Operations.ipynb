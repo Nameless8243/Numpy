{
 "cells": [
  {
   "cell_type": "markdown",
   "id": "f0c2b133-41a7-4df2-bc2b-33e8a9bcef86",
   "metadata": {},
   "source": [
    "### 13:00 https://www.youtube.com/watch?v=E1IPJOd7dWQ"
   ]
  },
  {
   "cell_type": "code",
   "execution_count": 2,
   "id": "c3088cc5-504e-41e9-b204-b8a6df9091d5",
   "metadata": {},
   "outputs": [],
   "source": [
    "import numpy as np"
   ]
  },
  {
   "cell_type": "code",
   "execution_count": null,
   "id": "61f1b8ad-4981-425e-b8ad-7d19aafc102e",
   "metadata": {},
   "outputs": [],
   "source": []
  },
  {
   "cell_type": "code",
   "execution_count": 7,
   "id": "07c34475-6317-49d1-a140-41f4040cebd0",
   "metadata": {},
   "outputs": [
    {
     "name": "stdout",
     "output_type": "stream",
     "text": [
      "[[2. 2. 2.]\n",
      " [2. 2. 2.]\n",
      " [2. 2. 2.]] \n",
      "\n",
      "float64\n"
     ]
    }
   ],
   "source": [
    "a = np.zeros((3,3))\n",
    "a[:] = 2\n",
    "print(a, \"\\n\")\n",
    "print(a.dtype)"
   ]
  },
  {
   "cell_type": "code",
   "execution_count": 8,
   "id": "4f491298-db17-470f-a2d6-bedaf4e3e7c8",
   "metadata": {},
   "outputs": [
    {
     "name": "stdout",
     "output_type": "stream",
     "text": [
      "[[1 2 3]\n",
      " [4 5 6]\n",
      " [7 8 9]] \n",
      "\n",
      "int32\n"
     ]
    }
   ],
   "source": [
    "b = np.arange(1, 10).reshape((3,3))\n",
    "print(b, \"\\n\")\n",
    "print(b.dtype)"
   ]
  },
  {
   "cell_type": "markdown",
   "id": "cd839211-8ce9-4d05-8b56-54586451169f",
   "metadata": {},
   "source": [
    "## convert dtype"
   ]
  },
  {
   "cell_type": "code",
   "execution_count": 10,
   "id": "4f02f609-eb3e-4e16-b9b5-7bb471058a4f",
   "metadata": {},
   "outputs": [
    {
     "name": "stdout",
     "output_type": "stream",
     "text": [
      "[[2 2 2]\n",
      " [2 2 2]\n",
      " [2 2 2]] \n",
      "\n",
      "int64\n"
     ]
    }
   ],
   "source": [
    "a = np.zeros((3,3), dtype=np.int64)\n",
    "a[:] = 2\n",
    "print(a, \"\\n\")\n",
    "print(a.dtype)"
   ]
  },
  {
   "cell_type": "markdown",
   "id": "2f7500a6-e9a0-48ad-9b24-cc177f59e70a",
   "metadata": {},
   "source": [
    "## FILL... fills the entire data structure with the given number."
   ]
  },
  {
   "cell_type": "code",
   "execution_count": 12,
   "id": "b96680f8-37db-43c7-bab2-bf4ca8f9e15e",
   "metadata": {},
   "outputs": [
    {
     "name": "stdout",
     "output_type": "stream",
     "text": [
      "Array A\n",
      " [[8 8 8]\n",
      " [8 8 8]\n",
      " [8 8 8]]\n"
     ]
    }
   ],
   "source": [
    "a = np.zeros((3,3), dtype=np.int64)\n",
    "a[:] = 2\n",
    "a.fill(8)\n",
    "print(\"Array A\\n\", a)"
   ]
  },
  {
   "cell_type": "markdown",
   "id": "d5d0fdcc-88b0-4397-9e28-a50592c395bd",
   "metadata": {},
   "source": [
    "## +, -, *, /"
   ]
  },
  {
   "cell_type": "code",
   "execution_count": 13,
   "id": "bc3731d2-3630-453d-af43-8f86321721be",
   "metadata": {},
   "outputs": [
    {
     "name": "stdout",
     "output_type": "stream",
     "text": [
      "Array A\n",
      " [[10. 10. 10.]\n",
      " [10. 10. 10.]\n",
      " [10. 10. 10.]]\n"
     ]
    }
   ],
   "source": [
    "a = np.zeros((3,3))\n",
    "a[:] = 2\n",
    "a.fill(8)\n",
    "a += 2\n",
    "print(\"Array A\\n\", a)"
   ]
  },
  {
   "cell_type": "code",
   "execution_count": 16,
   "id": "e24cea17-27eb-46ec-8340-be25eaa9cb11",
   "metadata": {},
   "outputs": [
    {
     "name": "stdout",
     "output_type": "stream",
     "text": [
      "Array A\n",
      " [[2.66666667 2.66666667 2.66666667]\n",
      " [2.66666667 2.66666667 2.66666667]\n",
      " [2.66666667 2.66666667 2.66666667]]\n"
     ]
    }
   ],
   "source": [
    "a = np.zeros((3,3))\n",
    "a[:] = 2\n",
    "a.fill(8)\n",
    "a /= 3\n",
    "print(\"Array A\\n\", a)"
   ]
  },
  {
   "cell_type": "markdown",
   "id": "57d51c9a-1a66-4fc4-abf4-4791d933e903",
   "metadata": {},
   "source": [
    "## Arithmetic methods"
   ]
  },
  {
   "cell_type": "markdown",
   "id": "2620c156-5960-4a29-bc93-a896aa2397ef",
   "metadata": {},
   "source": [
    "### Calculate the entire array"
   ]
  },
  {
   "cell_type": "code",
   "execution_count": 19,
   "id": "d547fce7-c43c-4c6e-be9d-d72075f1fafa",
   "metadata": {},
   "outputs": [
    {
     "name": "stdout",
     "output_type": "stream",
     "text": [
      "Array A\n",
      " [[2. 2. 2. 2.]\n",
      " [2. 2. 2. 2.]\n",
      " [2. 2. 2. 2.]\n",
      " [2. 2. 2. 2.]]\n",
      "32.0\n"
     ]
    }
   ],
   "source": [
    "a = np.zeros((4,4))\n",
    "a[:] = 2\n",
    "print(\"Array A\\n\", a)\n",
    "array_sum = a.sum()\n",
    "print(array_sum)"
   ]
  },
  {
   "cell_type": "markdown",
   "id": "fb6dc977-134d-40cf-9d76-4b1e2b577391",
   "metadata": {},
   "source": [
    "### Calculate separately"
   ]
  },
  {
   "cell_type": "code",
   "execution_count": 30,
   "id": "c0951384-7576-4d28-a05d-a5ac51719f7b",
   "metadata": {},
   "outputs": [
    {
     "name": "stdout",
     "output_type": "stream",
     "text": [
      "[[1 2 3]\n",
      " [4 5 6]\n",
      " [7 8 9]] \n",
      "\n",
      "[12 15 18]\n"
     ]
    }
   ],
   "source": [
    "# Sum of columns, (0) is axis zero\n",
    "array_sum = b.sum(axis=0)\n",
    "print(b, \"\\n\")\n",
    "print(array_sum)"
   ]
  },
  {
   "cell_type": "code",
   "execution_count": 33,
   "id": "eaefdc32-4409-42c4-b250-dac69accc54e",
   "metadata": {},
   "outputs": [
    {
     "name": "stdout",
     "output_type": "stream",
     "text": [
      "[[1 2 3]\n",
      " [4 5 6]\n",
      " [7 8 9]] \n",
      "\n",
      "[ 6 15 24]\n"
     ]
    }
   ],
   "source": [
    "# Sum of rows, (1) is axin one\n",
    "array_sum = b.sum(axis=1)\n",
    "print(b, \"\\n\")\n",
    "print(array_sum)"
   ]
  },
  {
   "cell_type": "markdown",
   "id": "9c0e55bb-3905-4ac6-8eec-8e5d73056440",
   "metadata": {},
   "source": [
    "### multiplying all the items by one another"
   ]
  },
  {
   "cell_type": "code",
   "execution_count": 39,
   "id": "776b8c56-4120-47c0-ba3e-72dbb61b0c31",
   "metadata": {},
   "outputs": [
    {
     "name": "stdout",
     "output_type": "stream",
     "text": [
      "[[1 2 3]\n",
      " [4 5 6]\n",
      " [7 8 9]] \n",
      "\n",
      "362880\n"
     ]
    }
   ],
   "source": [
    "# 1*2*3*4*5*6*7*8*9 = \n",
    "array_product = b.prod()\n",
    "print(b, \"\\n\")\n",
    "print(array_product)"
   ]
  },
  {
   "cell_type": "markdown",
   "id": "a5094955-41e3-46ef-a592-711cb016b4a0",
   "metadata": {},
   "source": [
    "### average"
   ]
  },
  {
   "cell_type": "code",
   "execution_count": 41,
   "id": "88895b67-c326-4729-b370-28e7733204b0",
   "metadata": {},
   "outputs": [
    {
     "name": "stdout",
     "output_type": "stream",
     "text": [
      "5.0\n"
     ]
    }
   ],
   "source": [
    "array_average = b.mean()\n",
    "print(array_average)"
   ]
  },
  {
   "cell_type": "markdown",
   "id": "ef81b330-ac52-4e17-8989-ad14e071672b",
   "metadata": {},
   "source": [
    "### min"
   ]
  },
  {
   "cell_type": "code",
   "execution_count": 42,
   "id": "a9b3a2c2-f8ec-4cc4-ab13-25fcb6b5eea2",
   "metadata": {},
   "outputs": [
    {
     "name": "stdout",
     "output_type": "stream",
     "text": [
      "1\n"
     ]
    }
   ],
   "source": [
    "array_min = b.min()\n",
    "print(array_min)"
   ]
  },
  {
   "cell_type": "markdown",
   "id": "54e8206b-8c0c-4fca-86cf-e365989b4e08",
   "metadata": {},
   "source": [
    "### max"
   ]
  },
  {
   "cell_type": "code",
   "execution_count": 43,
   "id": "5f5c62ed-f6a4-42c4-9326-5a53acdb2a4c",
   "metadata": {},
   "outputs": [
    {
     "name": "stdout",
     "output_type": "stream",
     "text": [
      "9\n"
     ]
    }
   ],
   "source": [
    "array_max = b.max()\n",
    "print(array_max)"
   ]
  },
  {
   "cell_type": "markdown",
   "id": "97320ce7-c3cd-49ab-8872-45e911e44077",
   "metadata": {},
   "source": [
    "### if we need the position"
   ]
  },
  {
   "cell_type": "code",
   "execution_count": 44,
   "id": "e82ae51a-694c-414b-94c8-a2d8f936ffd4",
   "metadata": {},
   "outputs": [
    {
     "name": "stdout",
     "output_type": "stream",
     "text": [
      "8 0\n"
     ]
    }
   ],
   "source": [
    "array_argmax, array_argmin = b.argmax(), b.argmin()\n",
    "print(array_argmax, array_argmin)"
   ]
  },
  {
   "cell_type": "markdown",
   "id": "c01ccdfe-587b-4e44-8db5-33d4c4af456e",
   "metadata": {},
   "source": [
    "### peak to peak (maxvalue - minvalue)"
   ]
  },
  {
   "cell_type": "code",
   "execution_count": 45,
   "id": "1db043fb-ddfa-4b43-bf5d-91e072b27cdc",
   "metadata": {},
   "outputs": [
    {
     "name": "stdout",
     "output_type": "stream",
     "text": [
      "8\n"
     ]
    }
   ],
   "source": [
    "peak_to_peak = b.ptp()\n",
    "print(peak_to_peak)"
   ]
  },
  {
   "cell_type": "markdown",
   "id": "0739d10c-5414-4eaf-8e12-7e775d2b5ccc",
   "metadata": {},
   "source": [
    "## flatten arrays"
   ]
  },
  {
   "cell_type": "code",
   "execution_count": 46,
   "id": "98903320-5a4d-4ff2-953f-4c90666edd8b",
   "metadata": {},
   "outputs": [
    {
     "name": "stdout",
     "output_type": "stream",
     "text": [
      "[1 2 3 4 5 6 7 8 9]\n"
     ]
    }
   ],
   "source": [
    "array_flat = b.reshape(b.size)\n",
    "print(array_flat)"
   ]
  },
  {
   "cell_type": "code",
   "execution_count": 56,
   "id": "8e8322a6-6b05-4e3e-be67-a36e0b1f261b",
   "metadata": {},
   "outputs": [
    {
     "name": "stdout",
     "output_type": "stream",
     "text": [
      "[1 2 3 4 5 6 7 8 9]\n",
      "[[ 6  7  8]\n",
      " [ 9 10 11]\n",
      " [12 13 14]]\n"
     ]
    }
   ],
   "source": [
    "# Creates a view of the original array\n",
    "b = np.arange(1, 10).reshape((3,3))\n",
    "array_flat = b.ravel()\n",
    "print(array_flat)\n",
    "array_flat += 5\n",
    "print(b)"
   ]
  },
  {
   "cell_type": "code",
   "execution_count": null,
   "id": "34feea3f-0f46-497c-b571-840b0f2266d8",
   "metadata": {},
   "outputs": [],
   "source": []
  },
  {
   "cell_type": "code",
   "execution_count": 57,
   "id": "33e37721-28e1-4952-94f4-60ca356130a2",
   "metadata": {},
   "outputs": [
    {
     "name": "stdout",
     "output_type": "stream",
     "text": [
      "[1 2 3 4 5 6 7 8 9]\n",
      "[[1 2 3]\n",
      " [4 5 6]\n",
      " [7 8 9]]\n"
     ]
    }
   ],
   "source": [
    "# makes a copy of the original array\n",
    "b = np.arange(1, 10).reshape((3,3))\n",
    "array_flat = b.flatten()\n",
    "print(array_flat)\n",
    "array_flat += 5\n",
    "print(b)"
   ]
  }
 ],
 "metadata": {
  "kernelspec": {
   "display_name": "Python 3 (ipykernel)",
   "language": "python",
   "name": "python3"
  },
  "language_info": {
   "codemirror_mode": {
    "name": "ipython",
    "version": 3
   },
   "file_extension": ".py",
   "mimetype": "text/x-python",
   "name": "python",
   "nbconvert_exporter": "python",
   "pygments_lexer": "ipython3",
   "version": "3.12.0"
  }
 },
 "nbformat": 4,
 "nbformat_minor": 5
}
