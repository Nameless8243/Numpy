{
 "cells": [
  {
   "cell_type": "markdown",
   "id": "f0c2b133-41a7-4df2-bc2b-33e8a9bcef86",
   "metadata": {},
   "source": [
    "### 16:40 https://www.youtube.com/watch?v=E1IPJOd7dWQ"
   ]
  },
  {
   "cell_type": "code",
   "execution_count": 1,
   "id": "c3088cc5-504e-41e9-b204-b8a6df9091d5",
   "metadata": {},
   "outputs": [],
   "source": [
    "import numpy as np"
   ]
  },
  {
   "cell_type": "code",
   "execution_count": null,
   "id": "61f1b8ad-4981-425e-b8ad-7d19aafc102e",
   "metadata": {},
   "outputs": [],
   "source": []
  },
  {
   "cell_type": "code",
   "execution_count": 2,
   "id": "07c34475-6317-49d1-a140-41f4040cebd0",
   "metadata": {},
   "outputs": [
    {
     "name": "stdout",
     "output_type": "stream",
     "text": [
      "[[2. 2. 2.]\n",
      " [2. 2. 2.]\n",
      " [2. 2. 2.]] \n",
      "\n",
      "float64\n"
     ]
    }
   ],
   "source": [
    "a = np.zeros((3,3))\n",
    "a[:] = 2\n",
    "print(a, \"\\n\")\n",
    "print(a.dtype)"
   ]
  },
  {
   "cell_type": "code",
   "execution_count": 3,
   "id": "4f491298-db17-470f-a2d6-bedaf4e3e7c8",
   "metadata": {},
   "outputs": [
    {
     "name": "stdout",
     "output_type": "stream",
     "text": [
      "[[1 2 3]\n",
      " [4 5 6]\n",
      " [7 8 9]] \n",
      "\n",
      "int32\n"
     ]
    }
   ],
   "source": [
    "b = np.arange(1, 10).reshape((3,3))\n",
    "print(b, \"\\n\")\n",
    "print(b.dtype)"
   ]
  },
  {
   "cell_type": "markdown",
   "id": "cd839211-8ce9-4d05-8b56-54586451169f",
   "metadata": {},
   "source": [
    "## convert dtype"
   ]
  },
  {
   "cell_type": "code",
   "execution_count": 4,
   "id": "4f02f609-eb3e-4e16-b9b5-7bb471058a4f",
   "metadata": {},
   "outputs": [
    {
     "name": "stdout",
     "output_type": "stream",
     "text": [
      "[[2 2 2]\n",
      " [2 2 2]\n",
      " [2 2 2]] \n",
      "\n",
      "int64\n"
     ]
    }
   ],
   "source": [
    "a = np.zeros((3,3), dtype=np.int64)\n",
    "a[:] = 2\n",
    "print(a, \"\\n\")\n",
    "print(a.dtype)"
   ]
  },
  {
   "cell_type": "markdown",
   "id": "2f7500a6-e9a0-48ad-9b24-cc177f59e70a",
   "metadata": {},
   "source": [
    "## FILL... fills the entire data structure with the given number."
   ]
  },
  {
   "cell_type": "code",
   "execution_count": 5,
   "id": "b96680f8-37db-43c7-bab2-bf4ca8f9e15e",
   "metadata": {},
   "outputs": [
    {
     "name": "stdout",
     "output_type": "stream",
     "text": [
      "Array A\n",
      " [[8 8 8]\n",
      " [8 8 8]\n",
      " [8 8 8]]\n"
     ]
    }
   ],
   "source": [
    "a = np.zeros((3,3), dtype=np.int64)\n",
    "a[:] = 2\n",
    "a.fill(8)\n",
    "print(\"Array A\\n\", a)"
   ]
  },
  {
   "cell_type": "markdown",
   "id": "d5d0fdcc-88b0-4397-9e28-a50592c395bd",
   "metadata": {},
   "source": [
    "## +, -, *, /"
   ]
  },
  {
   "cell_type": "code",
   "execution_count": 6,
   "id": "bc3731d2-3630-453d-af43-8f86321721be",
   "metadata": {},
   "outputs": [
    {
     "name": "stdout",
     "output_type": "stream",
     "text": [
      "Array A\n",
      " [[10. 10. 10.]\n",
      " [10. 10. 10.]\n",
      " [10. 10. 10.]]\n"
     ]
    }
   ],
   "source": [
    "a = np.zeros((3,3))\n",
    "a[:] = 2\n",
    "a.fill(8)\n",
    "a += 2\n",
    "print(\"Array A\\n\", a)"
   ]
  },
  {
   "cell_type": "code",
   "execution_count": 7,
   "id": "e24cea17-27eb-46ec-8340-be25eaa9cb11",
   "metadata": {},
   "outputs": [
    {
     "name": "stdout",
     "output_type": "stream",
     "text": [
      "Array A\n",
      " [[2.66666667 2.66666667 2.66666667]\n",
      " [2.66666667 2.66666667 2.66666667]\n",
      " [2.66666667 2.66666667 2.66666667]]\n"
     ]
    }
   ],
   "source": [
    "a = np.zeros((3,3))\n",
    "a[:] = 2\n",
    "a.fill(8)\n",
    "a /= 3\n",
    "print(\"Array A\\n\", a)"
   ]
  },
  {
   "cell_type": "markdown",
   "id": "57d51c9a-1a66-4fc4-abf4-4791d933e903",
   "metadata": {},
   "source": [
    "## Arithmetic methods"
   ]
  },
  {
   "cell_type": "markdown",
   "id": "2620c156-5960-4a29-bc93-a896aa2397ef",
   "metadata": {},
   "source": [
    "### Calculate the entire array"
   ]
  },
  {
   "cell_type": "code",
   "execution_count": 8,
   "id": "d547fce7-c43c-4c6e-be9d-d72075f1fafa",
   "metadata": {},
   "outputs": [
    {
     "name": "stdout",
     "output_type": "stream",
     "text": [
      "Array A\n",
      " [[2. 2. 2. 2.]\n",
      " [2. 2. 2. 2.]\n",
      " [2. 2. 2. 2.]\n",
      " [2. 2. 2. 2.]]\n",
      "32.0\n"
     ]
    }
   ],
   "source": [
    "a = np.zeros((4,4))\n",
    "a[:] = 2\n",
    "print(\"Array A\\n\", a)\n",
    "array_sum = a.sum()\n",
    "print(array_sum)"
   ]
  },
  {
   "cell_type": "markdown",
   "id": "fb6dc977-134d-40cf-9d76-4b1e2b577391",
   "metadata": {},
   "source": [
    "### Calculate separately"
   ]
  },
  {
   "cell_type": "code",
   "execution_count": 9,
   "id": "c0951384-7576-4d28-a05d-a5ac51719f7b",
   "metadata": {},
   "outputs": [
    {
     "name": "stdout",
     "output_type": "stream",
     "text": [
      "[[1 2 3]\n",
      " [4 5 6]\n",
      " [7 8 9]] \n",
      "\n",
      "[12 15 18]\n"
     ]
    }
   ],
   "source": [
    "# Sum of columns, (0) is axis zero\n",
    "array_sum = b.sum(axis=0)\n",
    "print(b, \"\\n\")\n",
    "print(array_sum)"
   ]
  },
  {
   "cell_type": "code",
   "execution_count": 10,
   "id": "eaefdc32-4409-42c4-b250-dac69accc54e",
   "metadata": {},
   "outputs": [
    {
     "name": "stdout",
     "output_type": "stream",
     "text": [
      "[[1 2 3]\n",
      " [4 5 6]\n",
      " [7 8 9]] \n",
      "\n",
      "[ 6 15 24]\n"
     ]
    }
   ],
   "source": [
    "# Sum of rows, (1) is axin one\n",
    "array_sum = b.sum(axis=1)\n",
    "print(b, \"\\n\")\n",
    "print(array_sum)"
   ]
  },
  {
   "cell_type": "markdown",
   "id": "9c0e55bb-3905-4ac6-8eec-8e5d73056440",
   "metadata": {},
   "source": [
    "### multiplying all the items by one another"
   ]
  },
  {
   "cell_type": "code",
   "execution_count": 11,
   "id": "776b8c56-4120-47c0-ba3e-72dbb61b0c31",
   "metadata": {},
   "outputs": [
    {
     "name": "stdout",
     "output_type": "stream",
     "text": [
      "[[1 2 3]\n",
      " [4 5 6]\n",
      " [7 8 9]] \n",
      "\n",
      "362880\n"
     ]
    }
   ],
   "source": [
    "# 1*2*3*4*5*6*7*8*9 = \n",
    "array_product = b.prod()\n",
    "print(b, \"\\n\")\n",
    "print(array_product)"
   ]
  },
  {
   "cell_type": "markdown",
   "id": "a5094955-41e3-46ef-a592-711cb016b4a0",
   "metadata": {},
   "source": [
    "### average"
   ]
  },
  {
   "cell_type": "code",
   "execution_count": 12,
   "id": "88895b67-c326-4729-b370-28e7733204b0",
   "metadata": {},
   "outputs": [
    {
     "name": "stdout",
     "output_type": "stream",
     "text": [
      "5.0\n"
     ]
    }
   ],
   "source": [
    "array_average = b.mean()\n",
    "print(array_average)"
   ]
  },
  {
   "cell_type": "markdown",
   "id": "ef81b330-ac52-4e17-8989-ad14e071672b",
   "metadata": {},
   "source": [
    "### min"
   ]
  },
  {
   "cell_type": "code",
   "execution_count": 13,
   "id": "a9b3a2c2-f8ec-4cc4-ab13-25fcb6b5eea2",
   "metadata": {},
   "outputs": [
    {
     "name": "stdout",
     "output_type": "stream",
     "text": [
      "1\n"
     ]
    }
   ],
   "source": [
    "array_min = b.min()\n",
    "print(array_min)"
   ]
  },
  {
   "cell_type": "markdown",
   "id": "54e8206b-8c0c-4fca-86cf-e365989b4e08",
   "metadata": {},
   "source": [
    "### max"
   ]
  },
  {
   "cell_type": "code",
   "execution_count": 14,
   "id": "5f5c62ed-f6a4-42c4-9326-5a53acdb2a4c",
   "metadata": {},
   "outputs": [
    {
     "name": "stdout",
     "output_type": "stream",
     "text": [
      "9\n"
     ]
    }
   ],
   "source": [
    "array_max = b.max()\n",
    "print(array_max)"
   ]
  },
  {
   "cell_type": "markdown",
   "id": "97320ce7-c3cd-49ab-8872-45e911e44077",
   "metadata": {},
   "source": [
    "### if we need the position"
   ]
  },
  {
   "cell_type": "code",
   "execution_count": 15,
   "id": "e82ae51a-694c-414b-94c8-a2d8f936ffd4",
   "metadata": {},
   "outputs": [
    {
     "name": "stdout",
     "output_type": "stream",
     "text": [
      "8 0\n"
     ]
    }
   ],
   "source": [
    "array_argmax, array_argmin = b.argmax(), b.argmin()\n",
    "print(array_argmax, array_argmin)"
   ]
  },
  {
   "cell_type": "markdown",
   "id": "c01ccdfe-587b-4e44-8db5-33d4c4af456e",
   "metadata": {},
   "source": [
    "### peak to peak (maxvalue - minvalue)"
   ]
  },
  {
   "cell_type": "code",
   "execution_count": 16,
   "id": "1db043fb-ddfa-4b43-bf5d-91e072b27cdc",
   "metadata": {},
   "outputs": [
    {
     "name": "stdout",
     "output_type": "stream",
     "text": [
      "8\n"
     ]
    }
   ],
   "source": [
    "peak_to_peak = b.ptp()\n",
    "print(peak_to_peak)"
   ]
  },
  {
   "cell_type": "markdown",
   "id": "0739d10c-5414-4eaf-8e12-7e775d2b5ccc",
   "metadata": {},
   "source": [
    "## flatten arrays"
   ]
  },
  {
   "cell_type": "code",
   "execution_count": 17,
   "id": "98903320-5a4d-4ff2-953f-4c90666edd8b",
   "metadata": {},
   "outputs": [
    {
     "name": "stdout",
     "output_type": "stream",
     "text": [
      "[1 2 3 4 5 6 7 8 9]\n"
     ]
    }
   ],
   "source": [
    "array_flat = b.reshape(b.size)\n",
    "print(array_flat)"
   ]
  },
  {
   "cell_type": "code",
   "execution_count": 18,
   "id": "8e8322a6-6b05-4e3e-be67-a36e0b1f261b",
   "metadata": {},
   "outputs": [
    {
     "name": "stdout",
     "output_type": "stream",
     "text": [
      "[1 2 3 4 5 6 7 8 9] \n",
      "\n",
      "[[ 6  7  8]\n",
      " [ 9 10 11]\n",
      " [12 13 14]]\n"
     ]
    }
   ],
   "source": [
    "# Modifies the original array\n",
    "b = np.arange(1, 10).reshape((3,3))\n",
    "array_flat = b.ravel()\n",
    "print(array_flat, \"\\n\")\n",
    "array_flat += 5\n",
    "print(b)"
   ]
  },
  {
   "cell_type": "code",
   "execution_count": 19,
   "id": "33e37721-28e1-4952-94f4-60ca356130a2",
   "metadata": {},
   "outputs": [
    {
     "name": "stdout",
     "output_type": "stream",
     "text": [
      "[1 2 3 4 5 6 7 8 9] \n",
      "\n",
      "[[1 2 3]\n",
      " [4 5 6]\n",
      " [7 8 9]]\n"
     ]
    }
   ],
   "source": [
    "# makes a copy of the original array\n",
    "b = np.arange(1, 10).reshape((3,3))\n",
    "array_flat = b.flatten()\n",
    "print(array_flat, \"\\n\")\n",
    "array_flat += 5\n",
    "print(b)"
   ]
  },
  {
   "cell_type": "markdown",
   "id": "326cdfa9-c237-4ef2-a7b6-83e09ac6d6b2",
   "metadata": {},
   "source": [
    "## repeat values/arrays"
   ]
  },
  {
   "cell_type": "code",
   "execution_count": 20,
   "id": "bca30d36-05ac-476c-ab80-9dd8efa6f5b0",
   "metadata": {},
   "outputs": [
    {
     "name": "stdout",
     "output_type": "stream",
     "text": [
      "[[1 2 3]\n",
      " [4 5 6]\n",
      " [7 8 9]]\n"
     ]
    }
   ],
   "source": [
    "b = np.arange(1, 10).reshape((3,3))\n",
    "print(b)"
   ]
  },
  {
   "cell_type": "code",
   "execution_count": 21,
   "id": "8e06da69-f026-42dc-ab4a-9602193a33a1",
   "metadata": {},
   "outputs": [
    {
     "name": "stdout",
     "output_type": "stream",
     "text": [
      "[255 255 255]\n"
     ]
    }
   ],
   "source": [
    "array_repeat = np.repeat(255, 3)\n",
    "print(array_repeat)"
   ]
  },
  {
   "cell_type": "code",
   "execution_count": 22,
   "id": "9b9934d3-1b4c-411a-bc8d-0fd8c8d860a5",
   "metadata": {},
   "outputs": [
    {
     "name": "stdout",
     "output_type": "stream",
     "text": [
      "[1 1 1 2 2 2 3 3 3 4 4 4 5 5 5 6 6 6 7 7 7 8 8 8 9 9 9]\n"
     ]
    }
   ],
   "source": [
    "array_repeat = np.repeat(b, 3)\n",
    "print(array_repeat)"
   ]
  },
  {
   "cell_type": "code",
   "execution_count": 23,
   "id": "4445f991-a3dc-42c9-a0f9-dac763a7743c",
   "metadata": {},
   "outputs": [
    {
     "name": "stdout",
     "output_type": "stream",
     "text": [
      "[[1 1 1 2 2 2 3 3 3]\n",
      " [4 4 4 5 5 5 6 6 6]\n",
      " [7 7 7 8 8 8 9 9 9]]\n"
     ]
    }
   ],
   "source": [
    "array_repeat = np.repeat(b, 3, axis=1)\n",
    "print(array_repeat)"
   ]
  },
  {
   "cell_type": "code",
   "execution_count": 24,
   "id": "02d411b3-2d71-4026-b6b2-cd4cd20295fd",
   "metadata": {},
   "outputs": [
    {
     "name": "stdout",
     "output_type": "stream",
     "text": [
      "[[1 2 3]\n",
      " [1 2 3]\n",
      " [1 2 3]\n",
      " [4 5 6]\n",
      " [4 5 6]\n",
      " [4 5 6]\n",
      " [7 8 9]\n",
      " [7 8 9]\n",
      " [7 8 9]]\n"
     ]
    }
   ],
   "source": [
    "array_repeat = np.repeat(b, 3, axis=0)\n",
    "print(array_repeat)"
   ]
  },
  {
   "cell_type": "code",
   "execution_count": 25,
   "id": "1396e03f-f937-4b4a-90fd-45602775c406",
   "metadata": {},
   "outputs": [
    {
     "name": "stdout",
     "output_type": "stream",
     "text": [
      "[[1 2 3]\n",
      " [4 5 6]\n",
      " [7 8 9]]\n"
     ]
    }
   ],
   "source": [
    "array_unique = np.unique(array_repeat, axis=0)\n",
    "print(array_unique)"
   ]
  },
  {
   "cell_type": "markdown",
   "id": "d0e7d7de-f6f3-44ec-b054-b63ec2ec30ec",
   "metadata": {},
   "source": [
    "### Diagonal"
   ]
  },
  {
   "cell_type": "code",
   "execution_count": 26,
   "id": "1837165f-18e9-4a1d-89e9-88ce70f1fb5c",
   "metadata": {},
   "outputs": [
    {
     "name": "stdout",
     "output_type": "stream",
     "text": [
      "[1 5 9]\n"
     ]
    }
   ],
   "source": [
    "array_diagonal = np.diagonal(b)\n",
    "print(array_diagonal)"
   ]
  },
  {
   "cell_type": "code",
   "execution_count": 27,
   "id": "044433a3-6b00-41f3-85e2-55b525a49c87",
   "metadata": {},
   "outputs": [
    {
     "name": "stdout",
     "output_type": "stream",
     "text": [
      "[2 6]\n"
     ]
    }
   ],
   "source": [
    "# offset=1 is 1 above the main diagonal\n",
    "array_diagonal = np.diagonal(b, offset=1)\n",
    "print(array_diagonal)"
   ]
  },
  {
   "cell_type": "code",
   "execution_count": 28,
   "id": "065e3d1f-4866-4e3c-b230-b2701421d883",
   "metadata": {},
   "outputs": [
    {
     "name": "stdout",
     "output_type": "stream",
     "text": [
      "[4 8]\n"
     ]
    }
   ],
   "source": [
    "# offset=-1 is 1 below the main diagonal\n",
    "array_diagonal = np.diagonal(b, offset=-1)\n",
    "print(array_diagonal)"
   ]
  },
  {
   "cell_type": "markdown",
   "id": "2fc7ea12-bfdf-4051-95a4-b17f4d709a94",
   "metadata": {},
   "source": [
    "### Conversion and storage"
   ]
  },
  {
   "cell_type": "code",
   "execution_count": 29,
   "id": "d9232bac-84ec-4ef4-87d1-a7c37d72e9dc",
   "metadata": {},
   "outputs": [
    {
     "name": "stdout",
     "output_type": "stream",
     "text": [
      "b is <class 'numpy.ndarray'> \n",
      "\n",
      "mylist is <class 'list'>\n"
     ]
    }
   ],
   "source": [
    "my_list = b.tolist()\n",
    "print(\"b is\", type(b), \"\\n\")\n",
    "print(\"mylist is\", type(my_list))"
   ]
  },
  {
   "cell_type": "code",
   "execution_count": 30,
   "id": "4a7ded6b-7176-47ea-8192-2f34ee368adc",
   "metadata": {},
   "outputs": [],
   "source": [
    "b.tofile(\"my_array.txt\", sep=\",\")"
   ]
  },
  {
   "cell_type": "markdown",
   "id": "551f71bf-07ea-458a-a8a8-0f31d2e07adc",
   "metadata": {},
   "source": [
    "### transposition"
   ]
  },
  {
   "cell_type": "code",
   "execution_count": 35,
   "id": "5b0bcb69-9760-46ec-aa41-856720373034",
   "metadata": {},
   "outputs": [
    {
     "name": "stdout",
     "output_type": "stream",
     "text": [
      "Array B \n",
      " [[1 2 3]\n",
      " [4 5 6]\n",
      " [7 8 9]] \n",
      "\n",
      "[[1 4 7]\n",
      " [2 5 8]\n",
      " [3 6 9]]\n"
     ]
    }
   ],
   "source": [
    "# (name of the array(b), flip this axis(0), with this axis(1))\n",
    "array_swapped = np.swapaxes(b, 0, 1)\n",
    "print(\"Array B \\n\", b, \"\\n\")\n",
    "print(array_swapped)"
   ]
  },
  {
   "cell_type": "code",
   "execution_count": 36,
   "id": "08cad255-e3a2-4529-b8e4-e4090472925a",
   "metadata": {},
   "outputs": [
    {
     "name": "stdout",
     "output_type": "stream",
     "text": [
      "Array B \n",
      " [[1 2 3]\n",
      " [4 5 6]\n",
      " [7 8 9]] \n",
      "\n",
      "[[1 4 7]\n",
      " [2 5 8]\n",
      " [3 6 9]]\n"
     ]
    }
   ],
   "source": [
    "array_swapped = b.transpose(1,0)\n",
    "print(\"Array B \\n\", b, \"\\n\")\n",
    "print(array_swapped)"
   ]
  },
  {
   "cell_type": "code",
   "execution_count": 37,
   "id": "293a654d-37ee-4851-8ad0-0f476d7aa5c6",
   "metadata": {},
   "outputs": [
    {
     "name": "stdout",
     "output_type": "stream",
     "text": [
      "Array B \n",
      " [[1 2 3]\n",
      " [4 5 6]\n",
      " [7 8 9]] \n",
      "\n",
      "[[1 4 7]\n",
      " [2 5 8]\n",
      " [3 6 9]]\n"
     ]
    }
   ],
   "source": [
    "array_swapped = b.T\n",
    "print(\"Array B \\n\", b, \"\\n\")\n",
    "print(array_swapped)"
   ]
  },
  {
   "cell_type": "markdown",
   "id": "46427c6f-71df-4d3b-b5da-ace6b8f1868e",
   "metadata": {},
   "source": [
    "## Operation on 2 matrices (on 2 arrays)."
   ]
  },
  {
   "cell_type": "code",
   "execution_count": 42,
   "id": "c525d8fb-e34f-4960-8245-25fcb42ac73d",
   "metadata": {},
   "outputs": [
    {
     "name": "stdout",
     "output_type": "stream",
     "text": [
      "[[2 2 2]\n",
      " [2 2 2]\n",
      " [2 2 2]] \n",
      "\n",
      "int64\n"
     ]
    }
   ],
   "source": [
    "a = np.zeros((3,3), dtype=np.int64)\n",
    "a[:] = 2\n",
    "print(a, \"\\n\")\n",
    "print(a.dtype)"
   ]
  },
  {
   "cell_type": "code",
   "execution_count": 48,
   "id": "3d7f3c04-c1ce-4359-bc2d-fa1d6a73083b",
   "metadata": {},
   "outputs": [
    {
     "name": "stdout",
     "output_type": "stream",
     "text": [
      "Array A \n",
      " [[2 2 2]\n",
      " [2 2 2]\n",
      " [2 2 2]] \n",
      "\n",
      "Array B \n",
      " [[1 2 3]\n",
      " [4 5 6]\n",
      " [7 8 9]] \n",
      "\n",
      "[[ 3  4  5]\n",
      " [ 6  7  8]\n",
      " [ 9 10 11]]\n"
     ]
    }
   ],
   "source": [
    "print(\"Array A \\n\", a, \"\\n\")\n",
    "print(\"Array B \\n\", b, \"\\n\")\n",
    "simple_ops = a + b\n",
    "print(simple_ops)"
   ]
  },
  {
   "cell_type": "code",
   "execution_count": 50,
   "id": "a2c35429-af03-4f83-b490-3a3f8649733f",
   "metadata": {},
   "outputs": [
    {
     "name": "stdout",
     "output_type": "stream",
     "text": [
      "Array A \n",
      " [[2 2 2]\n",
      " [2 2 2]\n",
      " [2 2 2]] \n",
      "\n",
      "Array B \n",
      " [[1 2 3]\n",
      " [4 5 6]\n",
      " [7 8 9]] \n",
      "\n",
      "[[-0.25  0.    0.25]\n",
      " [ 0.5   0.75  1.  ]\n",
      " [ 1.25  1.5   1.75]]\n"
     ]
    }
   ],
   "source": [
    "print(\"Array A \\n\", a, \"\\n\")\n",
    "print(\"Array B \\n\", b, \"\\n\")\n",
    "simple_ops = (a + b - 2*a)/4\n",
    "print(simple_ops)"
   ]
  },
  {
   "cell_type": "code",
   "execution_count": 53,
   "id": "e8495290-37d5-41f8-a1fe-85a3aa0bdee3",
   "metadata": {},
   "outputs": [
    {
     "name": "stdout",
     "output_type": "stream",
     "text": [
      "Array A \n",
      " [[2 2 2]\n",
      " [2 2 2]\n",
      " [2 2 2]] \n",
      "\n",
      "Array B \n",
      " [[1 2 3]\n",
      " [4 5 6]\n",
      " [7 8 9]] \n",
      "\n",
      "[[1 0 1]\n",
      " [0 1 0]\n",
      " [1 0 1]]\n"
     ]
    }
   ],
   "source": [
    "print(\"Array A \\n\", a, \"\\n\")\n",
    "print(\"Array B \\n\", b, \"\\n\")\n",
    "modulo = b % a\n",
    "print(modulo)"
   ]
  },
  {
   "cell_type": "code",
   "execution_count": 63,
   "id": "13cae84f-2fcd-4bd8-958f-42e546d7bd11",
   "metadata": {},
   "outputs": [
    {
     "name": "stdout",
     "output_type": "stream",
     "text": [
      "Array A \n",
      " [[2 2 2]\n",
      " [2 2 2]\n",
      " [2 2 2]] \n",
      "\n",
      "Array B \n",
      " [[1 2 3]\n",
      " [4 5 6]\n",
      " [7 8 9]] \n",
      "\n",
      "B/A \n",
      " [[0.5 1.  1.5]\n",
      " [2.  2.5 3. ]\n",
      " [3.5 4.  4.5]] \n",
      "\n",
      "[[0 1 1]\n",
      " [2 2 3]\n",
      " [3 4 4]]\n"
     ]
    }
   ],
   "source": [
    "# returns integers\n",
    "print(\"Array A \\n\", a, \"\\n\")\n",
    "print(\"Array B \\n\", b, \"\\n\")\n",
    "floor_division = b // a\n",
    "print(\"B/A \\n\", b/a, \"\\n\")\n",
    "print(floor_division)"
   ]
  },
  {
   "cell_type": "code",
   "execution_count": 64,
   "id": "43aa178b-d182-4b2b-ae0a-af8aa8559da5",
   "metadata": {},
   "outputs": [
    {
     "name": "stdout",
     "output_type": "stream",
     "text": [
      "Array A \n",
      " [[2 2 2]\n",
      " [2 2 2]\n",
      " [2 2 2]] \n",
      "\n",
      "Array B \n",
      " [[1 2 3]\n",
      " [4 5 6]\n",
      " [7 8 9]] \n",
      "\n",
      "B/A \n",
      " [[0.5 1.  1.5]\n",
      " [2.  2.5 3. ]\n",
      " [3.5 4.  4.5]] \n",
      "\n",
      "[[0. 1. 1.]\n",
      " [2. 2. 3.]\n",
      " [3. 4. 4.]]\n"
     ]
    }
   ],
   "source": [
    "# returns floats\n",
    "print(\"Array A \\n\", a, \"\\n\")\n",
    "print(\"Array B \\n\", b, \"\\n\")\n",
    "floor_division = np.floor(b/a)\n",
    "print(\"B/A \\n\", b/a, \"\\n\")\n",
    "print(floor_division)"
   ]
  },
  {
   "cell_type": "markdown",
   "id": "1a0458f5-3b6d-4fa5-b238-613383b1face",
   "metadata": {},
   "source": [
    "## matrix multiplication"
   ]
  },
  {
   "cell_type": "code",
   "execution_count": 69,
   "id": "c32d025d-ef85-4597-923d-9d1660b6ee09",
   "metadata": {},
   "outputs": [
    {
     "name": "stdout",
     "output_type": "stream",
     "text": [
      "[[ 2  4  6]\n",
      " [ 8 10 12]\n",
      " [14 16 18]] \n",
      "\n",
      "[[24 30 36]\n",
      " [24 30 36]\n",
      " [24 30 36]]\n"
     ]
    }
   ],
   "source": [
    "matrix_multiply = np.matmul(a, b)\n",
    "print(a*b, \"\\n\") # element wise multiplication\n",
    "print(matrix_multiply) # matrix wise multiplication"
   ]
  },
  {
   "cell_type": "code",
   "execution_count": 70,
   "id": "400a8582-89e5-4cbe-b469-bc7edd6c4c40",
   "metadata": {},
   "outputs": [
    {
     "name": "stdout",
     "output_type": "stream",
     "text": [
      "[[ 2  4  6]\n",
      " [ 8 10 12]\n",
      " [14 16 18]] \n",
      "\n",
      "[[24 30 36]\n",
      " [24 30 36]\n",
      " [24 30 36]]\n"
     ]
    }
   ],
   "source": [
    "matrix_multiply = a.dot(b)\n",
    "print(a*b, \"\\n\") # element wise multiplication\n",
    "print(matrix_multiply) # matrix wise multiplication"
   ]
  },
  {
   "cell_type": "code",
   "execution_count": 71,
   "id": "75a9e78b-991f-4d2b-b20c-e368388970a6",
   "metadata": {},
   "outputs": [
    {
     "name": "stdout",
     "output_type": "stream",
     "text": [
      "[[ 2  4  6]\n",
      " [ 8 10 12]\n",
      " [14 16 18]] \n",
      "\n",
      "[[24 30 36]\n",
      " [24 30 36]\n",
      " [24 30 36]]\n"
     ]
    }
   ],
   "source": [
    "matrix_multiply = a @ b\n",
    "print(a*b, \"\\n\") # element wise multiplication\n",
    "print(matrix_multiply) # matrix wise multiplication"
   ]
  }
 ],
 "metadata": {
  "kernelspec": {
   "display_name": "Python 3 (ipykernel)",
   "language": "python",
   "name": "python3"
  },
  "language_info": {
   "codemirror_mode": {
    "name": "ipython",
    "version": 3
   },
   "file_extension": ".py",
   "mimetype": "text/x-python",
   "name": "python",
   "nbconvert_exporter": "python",
   "pygments_lexer": "ipython3",
   "version": "3.10.6"
  }
 },
 "nbformat": 4,
 "nbformat_minor": 5
}
