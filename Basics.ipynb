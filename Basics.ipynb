{
 "cells": [
  {
   "cell_type": "code",
   "execution_count": 1,
   "id": "686e55ad-0428-4fa8-9609-54a06fc0defe",
   "metadata": {},
   "outputs": [],
   "source": [
    "# https://www.youtube.com/watch?v=QUT1VHiLmmI  21:00"
   ]
  },
  {
   "cell_type": "code",
   "execution_count": 2,
   "id": "6d775142-0a49-4943-95ee-d27a2ac70fa1",
   "metadata": {},
   "outputs": [],
   "source": [
    "import numpy as np"
   ]
  },
  {
   "cell_type": "markdown",
   "id": "2da59bc4-881c-4465-b22e-8567767675be",
   "metadata": {},
   "source": [
    "# Basics"
   ]
  },
  {
   "cell_type": "markdown",
   "id": "b6e3f9df-5391-47ab-8a74-423f5c4541fe",
   "metadata": {},
   "source": [
    "### Array"
   ]
  },
  {
   "cell_type": "code",
   "execution_count": 3,
   "id": "3f427932-c8d8-46f3-979a-80e93b3baca7",
   "metadata": {},
   "outputs": [
    {
     "name": "stdout",
     "output_type": "stream",
     "text": [
      "[1 2 3]\n"
     ]
    }
   ],
   "source": [
    "a = np.array([1,2,3], dtype=\"int16\")\n",
    "print(a)"
   ]
  },
  {
   "cell_type": "code",
   "execution_count": 4,
   "id": "fc9153e6-48d1-461a-b110-afcf38045c83",
   "metadata": {},
   "outputs": [
    {
     "name": "stdout",
     "output_type": "stream",
     "text": [
      "[[9. 8. 7.]\n",
      " [6. 5. 4.]]\n"
     ]
    }
   ],
   "source": [
    "b = np.array([[9.0,8.0,7.0],[6.0,5.0,4.0]])\n",
    "print(b)"
   ]
  },
  {
   "cell_type": "markdown",
   "id": "75f436ab-9bd5-42dc-ac41-c2378a065794",
   "metadata": {},
   "source": [
    "### Get Dimension"
   ]
  },
  {
   "cell_type": "code",
   "execution_count": 5,
   "id": "11b080c1-6538-478b-a3bd-c7226c9ed6ee",
   "metadata": {},
   "outputs": [
    {
     "data": {
      "text/plain": [
       "1"
      ]
     },
     "execution_count": 5,
     "metadata": {},
     "output_type": "execute_result"
    }
   ],
   "source": [
    "# Get Dimension\n",
    "a.ndim"
   ]
  },
  {
   "cell_type": "code",
   "execution_count": 6,
   "id": "0edde3cd-2895-40cd-8a06-588f3a4d1a35",
   "metadata": {},
   "outputs": [
    {
     "data": {
      "text/plain": [
       "2"
      ]
     },
     "execution_count": 6,
     "metadata": {},
     "output_type": "execute_result"
    }
   ],
   "source": [
    "# Get Dimension\n",
    "b.ndim"
   ]
  },
  {
   "cell_type": "markdown",
   "id": "63aa2809-e797-4338-9f2d-5596d97ed730",
   "metadata": {},
   "source": [
    "### Get Shape"
   ]
  },
  {
   "cell_type": "code",
   "execution_count": 7,
   "id": "4daf9ceb-4ba3-4777-a9bc-890b12f721b0",
   "metadata": {},
   "outputs": [
    {
     "data": {
      "text/plain": [
       "(3,)"
      ]
     },
     "execution_count": 7,
     "metadata": {},
     "output_type": "execute_result"
    }
   ],
   "source": [
    "# Get Shape #(rows, cols)\n",
    "a.shape"
   ]
  },
  {
   "cell_type": "code",
   "execution_count": 8,
   "id": "1aded9f1-d7f9-49b5-a7f3-a7c59190b7e0",
   "metadata": {},
   "outputs": [
    {
     "data": {
      "text/plain": [
       "(2, 3)"
      ]
     },
     "execution_count": 8,
     "metadata": {},
     "output_type": "execute_result"
    }
   ],
   "source": [
    "# Get Shape #(rows, cols)\n",
    "b.shape"
   ]
  },
  {
   "cell_type": "markdown",
   "id": "d3b38e07-ffbc-49ac-9ecc-d2e67079cddb",
   "metadata": {},
   "source": [
    "### Get type"
   ]
  },
  {
   "cell_type": "code",
   "execution_count": 9,
   "id": "1cb918a8-fd5f-492a-9d57-34627c6a07e9",
   "metadata": {},
   "outputs": [
    {
     "data": {
      "text/plain": [
       "dtype('int16')"
      ]
     },
     "execution_count": 9,
     "metadata": {},
     "output_type": "execute_result"
    }
   ],
   "source": [
    "a.dtype"
   ]
  },
  {
   "cell_type": "code",
   "execution_count": 10,
   "id": "c1a365f2-673f-4fcb-b968-921f947ae969",
   "metadata": {},
   "outputs": [
    {
     "data": {
      "text/plain": [
       "dtype('float64')"
      ]
     },
     "execution_count": 10,
     "metadata": {},
     "output_type": "execute_result"
    }
   ],
   "source": [
    "b.dtype"
   ]
  },
  {
   "cell_type": "markdown",
   "id": "5c22d04d-4c9f-4ab6-b8fa-598fc9ebc142",
   "metadata": {},
   "source": [
    "### Get size"
   ]
  },
  {
   "cell_type": "code",
   "execution_count": 11,
   "id": "b557a7cb-cf27-4000-b163-855959fadfdb",
   "metadata": {},
   "outputs": [
    {
     "data": {
      "text/plain": [
       "2"
      ]
     },
     "execution_count": 11,
     "metadata": {},
     "output_type": "execute_result"
    }
   ],
   "source": [
    "# Get Size # How many bytes?\n",
    "a.itemsize"
   ]
  },
  {
   "cell_type": "code",
   "execution_count": 12,
   "id": "f6d0f8bc-8fbe-42ef-87f7-c3954bf2a110",
   "metadata": {},
   "outputs": [
    {
     "data": {
      "text/plain": [
       "8"
      ]
     },
     "execution_count": 12,
     "metadata": {},
     "output_type": "execute_result"
    }
   ],
   "source": [
    "# Get Size # How many bytes?\n",
    "b.itemsize"
   ]
  },
  {
   "cell_type": "markdown",
   "id": "014b3816-9c54-441c-a96e-9b8e5893e902",
   "metadata": {},
   "source": [
    "### Get Total Size"
   ]
  },
  {
   "cell_type": "code",
   "execution_count": 13,
   "id": "69ab9bff-6846-4729-9299-66d78c93341a",
   "metadata": {},
   "outputs": [
    {
     "data": {
      "text/plain": [
       "6"
      ]
     },
     "execution_count": 13,
     "metadata": {},
     "output_type": "execute_result"
    }
   ],
   "source": [
    "# Get total size # \n",
    "a.nbytes"
   ]
  },
  {
   "cell_type": "markdown",
   "id": "ba0fe5b6-1aac-47dc-896a-c6baa33fe76e",
   "metadata": {},
   "source": [
    "## Accessing/Changing specific elements, rows, columns, etc"
   ]
  },
  {
   "cell_type": "code",
   "execution_count": 14,
   "id": "dc6e6350-3cc3-47f6-b30c-802d70285f28",
   "metadata": {},
   "outputs": [
    {
     "name": "stdout",
     "output_type": "stream",
     "text": [
      "[[ 1  2  3  4  5  6  7]\n",
      " [ 8  9 10 11 12 13 14]]\n"
     ]
    }
   ],
   "source": [
    "c = np.array([[1,2,3,4,5,6,7],[8,9,10,11,12,13,14]])\n",
    "print(c)"
   ]
  },
  {
   "cell_type": "markdown",
   "id": "cadba7b2-10f3-433f-8f45-149ffdb8af41",
   "metadata": {},
   "source": [
    "### Get a specific element"
   ]
  },
  {
   "cell_type": "code",
   "execution_count": 15,
   "id": "13fe478b-e941-4cc8-96cc-3a65e8ea3cd7",
   "metadata": {},
   "outputs": [
    {
     "data": {
      "text/plain": [
       "13"
      ]
     },
     "execution_count": 15,
     "metadata": {},
     "output_type": "execute_result"
    }
   ],
   "source": [
    "# Get a specific element [r, c]\n",
    "c[1, 5]"
   ]
  },
  {
   "cell_type": "code",
   "execution_count": 16,
   "id": "fcbf0e39-74b6-4fd4-bd50-00405b6eb996",
   "metadata": {},
   "outputs": [
    {
     "data": {
      "text/plain": [
       "13"
      ]
     },
     "execution_count": 16,
     "metadata": {},
     "output_type": "execute_result"
    }
   ],
   "source": [
    "# Get a specific element [r, c]\n",
    "c[1, -2]"
   ]
  },
  {
   "cell_type": "markdown",
   "id": "014c8e73-b7a8-4b01-a5a1-fa4166c5177d",
   "metadata": {},
   "source": [
    "### Get a specific row"
   ]
  },
  {
   "cell_type": "code",
   "execution_count": 17,
   "id": "d1ad0394-82cf-4bc2-b877-af3106e7a105",
   "metadata": {},
   "outputs": [
    {
     "data": {
      "text/plain": [
       "array([1, 2, 3, 4, 5, 6, 7])"
      ]
     },
     "execution_count": 17,
     "metadata": {},
     "output_type": "execute_result"
    }
   ],
   "source": [
    "c[0, :]"
   ]
  },
  {
   "cell_type": "markdown",
   "id": "5f4eb7fa-85fa-4e93-9f62-b1d83602e570",
   "metadata": {},
   "source": [
    "### Get a specific column"
   ]
  },
  {
   "cell_type": "code",
   "execution_count": 18,
   "id": "27c2ecdf-1a3c-4830-9010-eef5b0582035",
   "metadata": {},
   "outputs": [
    {
     "data": {
      "text/plain": [
       "array([ 3, 10])"
      ]
     },
     "execution_count": 18,
     "metadata": {},
     "output_type": "execute_result"
    }
   ],
   "source": [
    "c[:, 2]"
   ]
  },
  {
   "cell_type": "markdown",
   "id": "4642f5fb-6a2c-4660-935b-43b8dfc0fa4b",
   "metadata": {},
   "source": [
    "### Getting a little more fancy [startindex:endindex:stepsize]"
   ]
  },
  {
   "cell_type": "code",
   "execution_count": 19,
   "id": "9d252ab7-2975-4a01-9c8a-acc46bebe43f",
   "metadata": {},
   "outputs": [
    {
     "data": {
      "text/plain": [
       "array([2, 4, 6])"
      ]
     },
     "execution_count": 19,
     "metadata": {},
     "output_type": "execute_result"
    }
   ],
   "source": [
    "c[0, 1:6:2]"
   ]
  },
  {
   "cell_type": "code",
   "execution_count": 20,
   "id": "c4d7b508-fd6e-4328-b1ec-ca0a123e96b8",
   "metadata": {},
   "outputs": [
    {
     "data": {
      "text/plain": [
       "array([2, 4, 6])"
      ]
     },
     "execution_count": 20,
     "metadata": {},
     "output_type": "execute_result"
    }
   ],
   "source": [
    "c[0, 1:-1:2]"
   ]
  },
  {
   "cell_type": "markdown",
   "id": "b982e24b-2db6-436b-9db4-8107f98b00ab",
   "metadata": {},
   "source": [
    "### Change an element"
   ]
  },
  {
   "cell_type": "code",
   "execution_count": 21,
   "id": "8eeb2273-152a-461d-869b-01e070df5c87",
   "metadata": {},
   "outputs": [
    {
     "name": "stdout",
     "output_type": "stream",
     "text": [
      "[[ 1  2  3  4  5  6  7]\n",
      " [ 8  9 10 11 12 20 14]]\n",
      "\n",
      "[[ 1  2  5  4  5  6  7]\n",
      " [ 8  9  5 11 12 20 14]]\n",
      "\n",
      "[[ 1  2  1  4  5  6  7]\n",
      " [ 8  9  2 11 12 20 14]]\n"
     ]
    }
   ],
   "source": [
    "c[1,5] = 20\n",
    "print(c)\n",
    "\n",
    "print(\"\")\n",
    "\n",
    "# [in all row, 3rd column(2)] \n",
    "c[:,2] = 5\n",
    "print(c)\n",
    "\n",
    "print(\"\")\n",
    "\n",
    "c[:,2]=[1,2]\n",
    "print(c)"
   ]
  },
  {
   "cell_type": "markdown",
   "id": "17d41238-cbcd-445a-acd5-84b3c978915a",
   "metadata": {},
   "source": [
    "### 3-d example"
   ]
  },
  {
   "cell_type": "code",
   "execution_count": 22,
   "id": "658fa4fd-28d8-46c1-838f-7a58d4e197f6",
   "metadata": {},
   "outputs": [
    {
     "name": "stdout",
     "output_type": "stream",
     "text": [
      "[[[1 2]\n",
      "  [3 4]]\n",
      "\n",
      " [[5 6]\n",
      "  [7 8]]]\n"
     ]
    }
   ],
   "source": [
    "d = np.array([[[1,2],[3,4]],[[5,6],[7,8]]])\n",
    "print(d)"
   ]
  },
  {
   "cell_type": "markdown",
   "id": "6203b5b1-b98d-4f98-8629-0ef947fa3d0e",
   "metadata": {},
   "source": [
    "### Get specific element (work outside in)"
   ]
  },
  {
   "cell_type": "code",
   "execution_count": 24,
   "id": "940f563f-d929-45fa-8d97-1379a84615a7",
   "metadata": {
    "editable": true,
    "slideshow": {
     "slide_type": ""
    },
    "tags": []
   },
   "outputs": [
    {
     "data": {
      "text/plain": [
       "4"
      ]
     },
     "execution_count": 24,
     "metadata": {},
     "output_type": "execute_result"
    }
   ],
   "source": [
    "# [from first 2d array(1 2 3 4),from second row(3 4), second element(4)] \n",
    "d[0,1,1]"
   ]
  },
  {
   "cell_type": "code",
   "execution_count": null,
   "id": "413847c9-b49e-41b0-93bb-fe466d9ef22d",
   "metadata": {},
   "outputs": [],
   "source": []
  }
 ],
 "metadata": {
  "kernelspec": {
   "display_name": "Python 3 (ipykernel)",
   "language": "python",
   "name": "python3"
  },
  "language_info": {
   "codemirror_mode": {
    "name": "ipython",
    "version": 3
   },
   "file_extension": ".py",
   "mimetype": "text/x-python",
   "name": "python",
   "nbconvert_exporter": "python",
   "pygments_lexer": "ipython3",
   "version": "3.12.0"
  }
 },
 "nbformat": 4,
 "nbformat_minor": 5
}
