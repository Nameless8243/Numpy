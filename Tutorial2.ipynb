{
 "cells": [
  {
   "cell_type": "code",
   "execution_count": 5,
   "id": "1d8010a9-4238-41e4-9b42-46e5d9e56b0a",
   "metadata": {},
   "outputs": [],
   "source": [
    "import numpy as np"
   ]
  },
  {
   "cell_type": "code",
   "execution_count": 18,
   "id": "07663e27-09b4-47aa-9ee8-1ddfb9d3a627",
   "metadata": {},
   "outputs": [
    {
     "name": "stdout",
     "output_type": "stream",
     "text": [
      "[[2. 2. 2.]\n",
      " [2. 2. 2.]\n",
      " [2. 2. 2.]] \n",
      "\n",
      "float64\n"
     ]
    }
   ],
   "source": [
    "a = np.zeros((3,3))\n",
    "a[:] = 2\n",
    "print(a, \"\\n\")\n",
    "print(a.dtype)"
   ]
  },
  {
   "cell_type": "code",
   "execution_count": 21,
   "id": "93ec05f8-b41a-4452-9dbb-1f437831a77f",
   "metadata": {},
   "outputs": [
    {
     "name": "stdout",
     "output_type": "stream",
     "text": [
      "[[1 2 3]\n",
      " [4 5 6]\n",
      " [7 8 9]] \n",
      "\n",
      "int32\n"
     ]
    }
   ],
   "source": [
    "b = np.arange(1, 10).reshape((3,3))\n",
    "print(b, \"\\n\")\n",
    "print(b.dtype)"
   ]
  },
  {
   "cell_type": "code",
   "execution_count": 22,
   "id": "bcd0d6f2-7f68-4937-8b29-278affb5b55b",
   "metadata": {},
   "outputs": [
    {
     "name": "stdout",
     "output_type": "stream",
     "text": [
      "[[2 2 2]\n",
      " [2 2 2]\n",
      " [2 2 2]] \n",
      "\n",
      "int64\n"
     ]
    }
   ],
   "source": [
    "a = np.zeros((3,3), dtype=np.int64)\n",
    "a[:] = 2\n",
    "print(a, \"\\n\")\n",
    "print(a.dtype)"
   ]
  }
 ],
 "metadata": {
  "kernelspec": {
   "display_name": "Python 3 (ipykernel)",
   "language": "python",
   "name": "python3"
  },
  "language_info": {
   "codemirror_mode": {
    "name": "ipython",
    "version": 3
   },
   "file_extension": ".py",
   "mimetype": "text/x-python",
   "name": "python",
   "nbconvert_exporter": "python",
   "pygments_lexer": "ipython3",
   "version": "3.10.6"
  }
 },
 "nbformat": 4,
 "nbformat_minor": 5
}
